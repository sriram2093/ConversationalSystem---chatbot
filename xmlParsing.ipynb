{
 "metadata": {
  "name": "",
  "signature": "sha256:4dcdf4074cbc2bd1800ae18dbadf61f3085eb4040b1579cc18bf1cb83db16dc3"
 },
 "nbformat": 3,
 "nbformat_minor": 0,
 "worksheets": [
  {
   "cells": [
    {
     "cell_type": "markdown",
     "metadata": {},
     "source": [
      "# Xml Parsing using beautiful soup"
     ]
    },
    {
     "cell_type": "code",
     "collapsed": false,
     "input": [
      "from bs4 import BeautifulSoup as bs"
     ],
     "language": "python",
     "metadata": {},
     "outputs": [],
     "prompt_number": 5
    },
    {
     "cell_type": "code",
     "collapsed": false,
     "input": [
      "content='''\\\n",
      "<node>\n",
      "<ID> 1 </ID>\n",
      "<content>Hi, what\u2019s your name?</content>\n",
      "<groupID> 1 </ groupID >\n",
      "<table>\n",
      "<entry>\n",
      "<conditions>\n",
      "<condition>String</condition>\n",
      "<condition>is-Male</condition>\n",
      "</conditions>\n",
      "<actions>\n",
      "<action>SQL(INSERT INTO USERS(uname))</action>\n",
      "<action>GOTO GROUP 2</action>\n",
      "</actions>\n",
      "</entry>\n",
      "</table>\n",
      "</node>'''    \n",
      "\n",
      "soup = bs(content, 'xml')\n",
      "\n",
      "title = soup.content\n",
      "\n",
      "print(title.string)\n",
      "# Title Sample\n"
     ],
     "language": "python",
     "metadata": {},
     "outputs": [
      {
       "output_type": "stream",
       "stream": "stdout",
       "text": [
        "Hi, what\u00e2\u20ac\u2122s your name?\n"
       ]
      }
     ],
     "prompt_number": 25
    },
    {
     "cell_type": "code",
     "collapsed": false,
     "input": [
      "for link in soup.find_all('condition'):\n",
      "    print link.string\n",
      "    \n",
      "for link in soup.find_all('action'):\n",
      "    print link.string"
     ],
     "language": "python",
     "metadata": {},
     "outputs": [
      {
       "output_type": "stream",
       "stream": "stdout",
       "text": [
        "String\n",
        "is-Male\n",
        "SQL(INSERT INTO USERS(uname))\n",
        "GOTO GROUP 2\n"
       ]
      }
     ],
     "prompt_number": 27
    },
    {
     "cell_type": "code",
     "collapsed": false,
     "input": [],
     "language": "python",
     "metadata": {},
     "outputs": []
    }
   ],
   "metadata": {}
  }
 ]
}