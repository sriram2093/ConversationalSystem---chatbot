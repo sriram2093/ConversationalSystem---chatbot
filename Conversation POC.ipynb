{
 "cells": [
  {
   "cell_type": "markdown",
   "metadata": {},
   "source": [
    "# Conversational System - POC"
   ]
  },
  {
   "cell_type": "code",
   "execution_count": 18,
   "metadata": {
    "collapsed": false
   },
   "outputs": [],
   "source": [
    "import networkx as nx\n",
    "import matplotlib.pyplot as plt\n",
    "from bs4 import BeautifulSoup as bs\n",
    "import xml.etree.ElementTree as ET\n",
    "%matplotlib inline"
   ]
  },
  {
   "cell_type": "markdown",
   "metadata": {},
   "source": [
    "### Common base class for all the nodes"
   ]
  },
  {
   "cell_type": "code",
   "execution_count": 19,
   "metadata": {
    "collapsed": true
   },
   "outputs": [],
   "source": [
    "class Node:\n",
    "    'Common base class for all Nodes'\n",
    "    nodeCount = 0\n",
    "    def __init__(self, nodeId, groupId, content):\n",
    "        ## content of the node\n",
    "        self.content = content\n",
    "        \n",
    "        ## node Id\n",
    "        self.nodeId = nodeId\n",
    "        \n",
    "        ## group Id of the node.\n",
    "        self.groupId = groupId\n",
    "        \n",
    "        ## Table is a list of Transitions(conditions associated with actions)\n",
    "        self.table = []  \n",
    "        \n",
    "        ## node counter\n",
    "        Node.nodeCount += 1\n",
    "   \n",
    "    def displayCount(self):\n",
    "        print \"Total no of nodes %d\" % Node.nodeCount\n",
    "\n",
    "    def displayNode(self):\n",
    "        print \"Content : \", self.content,  \", Id: \", self.nodeId\n",
    "        \n",
    "    def addTransition(self,*transition):\n",
    "        for i in range(0,len(transition)):\n",
    "            self.table.append(transition[i])"
   ]
  },
  {
   "cell_type": "markdown",
   "metadata": {},
   "source": [
    "### Common base class for the transitions"
   ]
  },
  {
   "cell_type": "code",
   "execution_count": 20,
   "metadata": {
    "collapsed": true
   },
   "outputs": [],
   "source": [
    "#Each Transition table has multiple transitions. Each Transition has a condition and an action which is to be performed when\n",
    "# the condition is met.\n",
    "\n",
    "class Transition:\n",
    "    'Common base class for all Transitions in a transition table'\n",
    "    def __init__(self, nodeid, condition, action):\n",
    "        self.nodeid = nodeid\n",
    "        self.condition = condition\n",
    "        self.action = action"
   ]
  },
  {
   "cell_type": "markdown",
   "metadata": {},
   "source": [
    "## Reading Xml content"
   ]
  },
  {
   "cell_type": "code",
   "execution_count": 31,
   "metadata": {
    "collapsed": false
   },
   "outputs": [
    {
     "name": "stdout",
     "output_type": "stream",
     "text": [
      "<node>\n",
      "\t<ID> 1 </ID>\n",
      "\t<groupID> 1 </groupID>\n",
      "\t<content>Hi, what’s your name?</content>\n",
      "\t<table>\n",
      "\t\t<entry>\n",
      "\t\t\t<conditions>\n",
      "\t\t\t\t<condition>String</condition>\n",
      "\t\t\t\t<condition>is-Male</condition>\n",
      "\t\t\t</conditions>\n",
      "\t\t\t<actions>\n",
      "\t\t\t\t<action>SQL(INSERT INTO USERS(uname))</action>\n",
      "\t\t\t\t<action>GOTO GROUP 2</action>\n",
      "\t\t\t</actions>\n",
      "\t\t</entry>\n",
      "\t</table>\n",
      "</node>\n",
      "\n",
      " 1 \n",
      "String\n",
      "is-Male\n",
      "SQL(INSERT INTO USERS(uname))\n",
      "GOTO GROUP 2\n",
      "len of conditions is 2\n"
     ]
    }
   ],
   "source": [
    "with open('node1.xml') as f: xmlcontent = f.read()\n",
    "f.close()\n",
    "\n",
    "print xmlcontent\n",
    "\n",
    "soup = bs(xmlcontent, 'xml')\n",
    "\n",
    "nodeid = soup.ID\n",
    "groupid = soup.groupID\n",
    "content = soup.content\n",
    "\n",
    "print(nodeid.string)\n",
    "\n",
    "#populating actions and conditions\n",
    "conditions = []\n",
    "actions = []\n",
    "for link in soup.find_all('condition'):\n",
    "    conditions.append(link.string)\n",
    "    print link.string\n",
    "    \n",
    "for link in soup.find_all('action'):\n",
    "    actions.append(link.string)\n",
    "    print link.string\n",
    "\n",
    "#creating a node instance    \n",
    "node1 = Node(nodeid,groupid,content)\n",
    "\n",
    "#adding the conditions and actions to the node\n",
    "print \"len of conditions is \"+str(len(conditions))\n",
    "if len(conditions)!=0 and len(conditions)==len(actions):    \n",
    "    for i in (0,len(conditions)-1):\n",
    "        t1 = Transition(nodeid,conditions[i],actions[i])\n",
    "        node1.addTransition(t1)\n",
    "        "
   ]
  },
  {
   "cell_type": "markdown",
   "metadata": {},
   "source": [
    "## adding additional nodes"
   ]
  },
  {
   "cell_type": "code",
   "execution_count": 49,
   "metadata": {
    "collapsed": false
   },
   "outputs": [
    {
     "name": "stdout",
     "output_type": "stream",
     "text": [
      "String\n",
      "is-Male\n",
      "4\n"
     ]
    }
   ],
   "source": [
    "for t in node1.table:\n",
    "    print t.condition\n",
    "\n",
    "node2 = Node(2,1,\"Hi, I am your personal Python tutor. What is you name?\")\n",
    "t1 = Transition(1,isString(\"abc\"),\"goto 2\")\n",
    "t2 = Transition(1,isinstance(1, int),\"goto 3\")\n",
    "t3 = Transition(1,isinstance(2.3, float),\"goto 3\")\n",
    "t4 = Transition(1,isinstance(\"abc\", basestring),\"goto 3\")\n",
    "\n",
    "node2.addTransition(t1,t2,t3,t4)\n",
    "print len(node2.table)\n",
    "\n",
    "node3 = Node(3,1,\"We have different programs . To find the right one for you, you have to answer a couple for questions.Do you know pandas?\")"
   ]
  },
  {
   "cell_type": "code",
   "execution_count": 53,
   "metadata": {
    "collapsed": false
   },
   "outputs": [
    {
     "name": "stdout",
     "output_type": "stream",
     "text": [
      "True\n"
     ]
    }
   ],
   "source": [
    "def isString(blah):\n",
    "    if str(blah)==blah:\n",
    "        return True\n",
    "    return False\n",
    "\n",
    "isString(2)\n",
    "\n",
    "Transition(1,isString,\"Sriram\")\n",
    "print isinstance(\"abc\", basestring)"
   ]
  },
  {
   "cell_type": "markdown",
   "metadata": {},
   "source": [
    "## Creating a graph from the data"
   ]
  },
  {
   "cell_type": "code",
   "execution_count": 37,
   "metadata": {
    "collapsed": false
   },
   "outputs": [
    {
     "data": {
      "image/png": "[encoded data removed]",
      "text/plain": [
       "<matplotlib.figure.Figure at 0x1b0eaa90>"
      ]
     },
     "metadata": {},
     "output_type": "display_data"
    }
   ],
   "source": [
    "G=nx.DiGraph()\n",
    "\n",
    "#edges should be added based on the transition conditions dynamically\n",
    "G.add_edge(node1,node2)\n",
    "G.add_edge(node2,node3)\n",
    "nx.draw(G,pos=nx.spring_layout(G))"
   ]
  },
  {
   "cell_type": "code",
   "execution_count": null,
   "metadata": {
    "collapsed": true
   },
   "outputs": [],
   "source": []
  }
 ],
 "metadata": {
  "kernelspec": {
   "display_name": "Python 2",
   "language": "python",
   "name": "python2"
  },
  "language_info": {
   "codemirror_mode": {
    "name": "ipython",
    "version": 2
   },
   "file_extension": ".py",
   "mimetype": "text/x-python",
   "name": "python",
   "nbconvert_exporter": "python",
   "pygments_lexer": "ipython2",
   "version": "2.7.10"
  }
 },
 "nbformat": 4,
 "nbformat_minor": 0
}
